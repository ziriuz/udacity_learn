{
 "cells": [
  {
   "cell_type": "markdown",
   "metadata": {
    "id": "5hIbr52I7Z7U",
    "colab_type": "text"
   },
   "source": [
    "Deep Learning\n",
    "=============\n",
    "\n",
    "Assignment 1\n",
    "------------\n",
    "\n",
    "The objective of this assignment is to learn about simple data curation practices, and familiarize you with some of the data we'll be reusing later.\n",
    "\n",
    "This notebook uses the [notMNIST](http://yaroslavvb.blogspot.com/2011/09/notmnist-dataset.html) dataset to be used with python experiments. This dataset is designed to look like the classic [MNIST](http://yann.lecun.com/exdb/mnist/) dataset, while looking a little more like real data: it's a harder task, and the data is a lot less 'clean' than MNIST."
   ]
  },
  {
   "cell_type": "code",
   "execution_count": 2,
   "metadata": {
    "id": "apJbCsBHl-2A",
    "colab_type": "code",
    "colab": {
     "autoexec": {
      "startup": false,
      "wait_interval": 0.0
     }
    },
    "cellView": "both"
   },
   "outputs": [],
   "source": [
    "# These are all the modules we'll be using later. Make sure you can import them\n",
    "# before proceeding further.\n",
    "from __future__ import print_function\n",
    "import imageio\n",
    "import matplotlib.pyplot as plt\n",
    "import numpy as np\n",
    "import os\n",
    "import sys\n",
    "import tarfile\n",
    "from IPython.display import display, Image\n",
    "from sklearn.linear_model import LogisticRegression\n",
    "from six.moves.urllib.request import urlretrieve\n",
    "from six.moves import cPickle as pickle\n",
    "\n",
    "# Config the matplotlib backend as plotting inline in IPython\n",
    "%matplotlib inline"
   ]
  },
  {
   "cell_type": "markdown",
   "metadata": {
    "id": "jNWGtZaXn-5j",
    "colab_type": "text"
   },
   "source": [
    "First, we'll download the dataset to our local machine. The data consists of characters rendered in a variety of fonts on a 28x28 image. The labels are limited to 'A' through 'J' (10 classes). The training set has about 500k and the testset 19000 labeled examples. Given these sizes, it should be possible to train models quickly on any machine."
   ]
  },
  {
   "cell_type": "code",
   "execution_count": 7,
   "metadata": {
    "id": "EYRJ4ICW6-da",
    "colab_type": "code",
    "colab": {
     "autoexec": {
      "startup": false,
      "wait_interval": 0.0
     },
     "output_extras": [
      {
       "item_id": 1.0
      }
     ]
    },
    "cellView": "both",
    "executionInfo": {
     "elapsed": 186058.0,
     "status": "ok",
     "timestamp": 1.444485672507E12,
     "user": {
      "color": "#1FA15D",
      "displayName": "Vincent Vanhoucke",
      "isAnonymous": false,
      "isMe": true,
      "permissionId": "05076109866853157986",
      "photoUrl": "//lh6.googleusercontent.com/-cCJa7dTDcgQ/AAAAAAAAAAI/AAAAAAAACgw/r2EZ_8oYer4/s50-c-k-no/photo.jpg",
      "sessionId": "2a0a5e044bb03b66",
      "userId": "102167687554210253930"
     },
     "user_tz": 420.0
    },
    "outputId": "0d0f85df-155f-4a89-8e7e-ee32df36ec8d"
   },
   "outputs": [
    {
     "name": "stdout",
     "output_type": "stream",
     "text": [
      "Found and verified DeepLearning\\data\\notMNIST_large.tar.gz\nFound and verified DeepLearning\\data\\notMNIST_small.tar.gz\n"
     ]
    }
   ],
   "source": [
    "url = 'https://commondatastorage.googleapis.com/books1000/'\n",
    "last_percent_reported = None\n",
    "data_root = 'DeepLearning\\\\data' # Change me to store data elsewhere\n",
    "\n",
    "def download_progress_hook(count, blockSize, totalSize):\n",
    "  \"\"\"A hook to report the progress of a download. This is mostly intended for users with\n",
    "  slow internet connections. Reports every 5% change in download progress.\n",
    "  \"\"\"\n",
    "  global last_percent_reported\n",
    "  percent = int(count * blockSize * 100 / totalSize)\n",
    "\n",
    "  if last_percent_reported != percent:\n",
    "    if percent % 5 == 0:\n",
    "      sys.stdout.write(\"%s%%\" % percent)\n",
    "      sys.stdout.flush()\n",
    "    else:\n",
    "      sys.stdout.write(\".\")\n",
    "      sys.stdout.flush()\n",
    "      \n",
    "    last_percent_reported = percent\n",
    "        \n",
    "def maybe_download(filename, expected_bytes, force=False):\n",
    "  \"\"\"Download a file if not present, and make sure it's the right size.\"\"\"\n",
    "  dest_filename = os.path.join(data_root, filename)\n",
    "  if force or not os.path.exists(dest_filename):\n",
    "    print('Attempting to download:', filename) \n",
    "    filename, _ = urlretrieve(url + filename, dest_filename, reporthook=download_progress_hook)\n",
    "    print('\\nDownload Complete!')\n",
    "  statinfo = os.stat(dest_filename)\n",
    "  if statinfo.st_size == expected_bytes:\n",
    "    print('Found and verified', dest_filename)\n",
    "  else:\n",
    "    raise Exception(\n",
    "      'Failed to verify ' + dest_filename + '. Can you get to it with a browser?')\n",
    "  return dest_filename\n",
    "\n",
    "train_filename = maybe_download('notMNIST_large.tar.gz', 247336696)\n",
    "test_filename = maybe_download('notMNIST_small.tar.gz', 8458043)"
   ]
  },
  {
   "cell_type": "markdown",
   "metadata": {
    "id": "cC3p0oEyF8QT",
    "colab_type": "text"
   },
   "source": [
    "Extract the dataset from the compressed .tar.gz file.\n",
    "This should give you a set of directories, labeled A through J."
   ]
  },
  {
   "cell_type": "code",
   "execution_count": 8,
   "metadata": {
    "id": "H8CBE-WZ8nmj",
    "colab_type": "code",
    "colab": {
     "autoexec": {
      "startup": false,
      "wait_interval": 0.0
     },
     "output_extras": [
      {
       "item_id": 1.0
      }
     ]
    },
    "cellView": "both",
    "executionInfo": {
     "elapsed": 186055.0,
     "status": "ok",
     "timestamp": 1.444485672525E12,
     "user": {
      "color": "#1FA15D",
      "displayName": "Vincent Vanhoucke",
      "isAnonymous": false,
      "isMe": true,
      "permissionId": "05076109866853157986",
      "photoUrl": "//lh6.googleusercontent.com/-cCJa7dTDcgQ/AAAAAAAAAAI/AAAAAAAACgw/r2EZ_8oYer4/s50-c-k-no/photo.jpg",
      "sessionId": "2a0a5e044bb03b66",
      "userId": "102167687554210253930"
     },
     "user_tz": 420.0
    },
    "outputId": "ef6c790c-2513-4b09-962e-27c79390c762"
   },
   "outputs": [
    {
     "name": "stdout",
     "output_type": "stream",
     "text": [
      "DeepLearning\\data\\notMNIST_large already present - Skipping extraction of DeepLearning\\data\\notMNIST_large.tar.gz.\n['DeepLearning\\\\data\\\\notMNIST_large\\\\A', 'DeepLearning\\\\data\\\\notMNIST_large\\\\B', 'DeepLearning\\\\data\\\\notMNIST_large\\\\C', 'DeepLearning\\\\data\\\\notMNIST_large\\\\D', 'DeepLearning\\\\data\\\\notMNIST_large\\\\E', 'DeepLearning\\\\data\\\\notMNIST_large\\\\F', 'DeepLearning\\\\data\\\\notMNIST_large\\\\G', 'DeepLearning\\\\data\\\\notMNIST_large\\\\H', 'DeepLearning\\\\data\\\\notMNIST_large\\\\I', 'DeepLearning\\\\data\\\\notMNIST_large\\\\J']\nDeepLearning\\data\\notMNIST_small already present - Skipping extraction of DeepLearning\\data\\notMNIST_small.tar.gz.\n['DeepLearning\\\\data\\\\notMNIST_small\\\\A', 'DeepLearning\\\\data\\\\notMNIST_small\\\\B', 'DeepLearning\\\\data\\\\notMNIST_small\\\\C', 'DeepLearning\\\\data\\\\notMNIST_small\\\\D', 'DeepLearning\\\\data\\\\notMNIST_small\\\\E', 'DeepLearning\\\\data\\\\notMNIST_small\\\\F', 'DeepLearning\\\\data\\\\notMNIST_small\\\\G', 'DeepLearning\\\\data\\\\notMNIST_small\\\\H', 'DeepLearning\\\\data\\\\notMNIST_small\\\\I', 'DeepLearning\\\\data\\\\notMNIST_small\\\\J']\n"
     ]
    }
   ],
   "source": [
    "num_classes = 10\n",
    "np.random.seed(133)\n",
    "\n",
    "def maybe_extract(filename, force=False):\n",
    "  root = os.path.splitext(os.path.splitext(filename)[0])[0]  # remove .tar.gz\n",
    "  if os.path.isdir(root) and not force:\n",
    "    # You may override by setting force=True.\n",
    "    print('%s already present - Skipping extraction of %s.' % (root, filename))\n",
    "  else:\n",
    "    print('Extracting data for %s. This may take a while. Please wait.' % root)\n",
    "    tar = tarfile.open(filename)\n",
    "    sys.stdout.flush()\n",
    "    tar.extractall(data_root)\n",
    "    tar.close()\n",
    "  data_folders = [\n",
    "    os.path.join(root, d) for d in sorted(os.listdir(root))\n",
    "    if os.path.isdir(os.path.join(root, d))]\n",
    "  if len(data_folders) != num_classes:\n",
    "    raise Exception(\n",
    "      'Expected %d folders, one per class. Found %d instead.' % (\n",
    "        num_classes, len(data_folders)))\n",
    "  print(data_folders)\n",
    "  return data_folders\n",
    "  \n",
    "train_folders = maybe_extract(train_filename)\n",
    "test_folders = maybe_extract(test_filename)"
   ]
  },
  {
   "cell_type": "markdown",
   "metadata": {
    "id": "4riXK3IoHgx6",
    "colab_type": "text"
   },
   "source": [
    "---\n",
    "Problem 1\n",
    "---------\n",
    "\n",
    "Let's take a peek at some of the data to make sure it looks sensible. Each exemplar should be an image of a character A through J rendered in a different font. Display a sample of the images that we just downloaded. Hint: you can use the package IPython.display.\n",
    "\n",
    "---"
   ]
  },
  {
   "cell_type": "code",
   "execution_count": 9,
   "metadata": {},
   "outputs": [
    {
     "data": {
      "image/png": "[encoded data removed]",
      "text/plain": [
       "<IPython.core.display.Image object>"
      ]
     },
     "metadata": {},
     "output_type": "display_data"
    }
   ],
   "source": [
    "from IPython.display import display, Image\n",
    "display(Image(filename=\"DeepLearning\\\\data\\\\notMNIST_small\\\\A\\\\MDEtMDEtMDAudHRm.png\"))\n"
   ]
  },
  {
   "cell_type": "markdown",
   "metadata": {
    "id": "PBdkjESPK8tw",
    "colab_type": "text"
   },
   "source": [
    "Now let's load the data in a more manageable format. Since, depending on your computer setup you might not be able to fit it all in memory, we'll load each class into a separate dataset, store them on disk and curate them independently. Later we'll merge them into a single dataset of manageable size.\n",
    "\n",
    "We'll convert the entire dataset into a 3D array (image index, x, y) of floating point values, normalized to have approximately zero mean and standard deviation ~0.5 to make training easier down the road. \n",
    "\n",
    "A few images might not be readable, we'll just skip them."
   ]
  },
  {
   "cell_type": "code",
   "execution_count": 10,
   "metadata": {
    "id": "h7q0XhG3MJdf",
    "colab_type": "code",
    "colab": {
     "autoexec": {
      "startup": false,
      "wait_interval": 0.0
     },
     "output_extras": [
      {
       "item_id": 30.0
      }
     ]
    },
    "cellView": "both",
    "executionInfo": {
     "elapsed": 399874.0,
     "status": "ok",
     "timestamp": 1.444485886378E12,
     "user": {
      "color": "#1FA15D",
      "displayName": "Vincent Vanhoucke",
      "isAnonymous": false,
      "isMe": true,
      "permissionId": "05076109866853157986",
      "photoUrl": "//lh6.googleusercontent.com/-cCJa7dTDcgQ/AAAAAAAAAAI/AAAAAAAACgw/r2EZ_8oYer4/s50-c-k-no/photo.jpg",
      "sessionId": "2a0a5e044bb03b66",
      "userId": "102167687554210253930"
     },
     "user_tz": 420.0
    },
    "outputId": "92c391bb-86ff-431d-9ada-315568a19e59"
   },
   "outputs": [
    {
     "name": "stdout",
     "output_type": "stream",
     "text": [
      "Pickling DeepLearning\\data\\notMNIST_large\\A.pickle.\n"
     ]
    },
    {
     "name": "stdout",
     "output_type": "stream",
     "text": [
      "(52912, 28, 28)\nDeepLearning\\data\\notMNIST_large\\A\n"
     ]
    },
    {
     "name": "stdout",
     "output_type": "stream",
     "text": [
      "Could not read: DeepLearning\\data\\notMNIST_large\\A\\RnJlaWdodERpc3BCb29rSXRhbGljLnR0Zg==.png : Could not find a format to read the specified file in mode 'i' - it's ok, skipping.\n"
     ]
    },
    {
     "name": "stdout",
     "output_type": "stream",
     "text": [
      "Could not read: DeepLearning\\data\\notMNIST_large\\A\\SG90IE11c3RhcmQgQlROIFBvc3Rlci50dGY=.png : Could not find a format to read the specified file in mode 'i' - it's ok, skipping.\n"
     ]
    },
    {
     "name": "stdout",
     "output_type": "stream",
     "text": [
      "Could not read: DeepLearning\\data\\notMNIST_large\\A\\Um9tYW5hIEJvbGQucGZi.png : Could not find a format to read the specified file in mode 'i' - it's ok, skipping.\n"
     ]
    },
    {
     "name": "stdout",
     "output_type": "stream",
     "text": [
      "Full dataset tensor: (52909, 28, 28)\nMean: -0.12825\n"
     ]
    },
    {
     "name": "stdout",
     "output_type": "stream",
     "text": [
      "Standard deviation: 0.443121\n"
     ]
    },
    {
     "name": "stdout",
     "output_type": "stream",
     "text": [
      "Pickling DeepLearning\\data\\notMNIST_large\\B.pickle.\n"
     ]
    },
    {
     "name": "stdout",
     "output_type": "stream",
     "text": [
      "(52912, 28, 28)\nDeepLearning\\data\\notMNIST_large\\B\n"
     ]
    },
    {
     "name": "stdout",
     "output_type": "stream",
     "text": [
      "Could not read: DeepLearning\\data\\notMNIST_large\\B\\TmlraXNFRi1TZW1pQm9sZEl0YWxpYy5vdGY=.png : Could not find a format to read the specified file in mode 'i' - it's ok, skipping.\n"
     ]
    },
    {
     "name": "stdout",
     "output_type": "stream",
     "text": [
      "Full dataset tensor: (52911, 28, 28)\nMean: -0.00756303\n"
     ]
    },
    {
     "name": "stdout",
     "output_type": "stream",
     "text": [
      "Standard deviation: 0.454491\n"
     ]
    },
    {
     "name": "stdout",
     "output_type": "stream",
     "text": [
      "Pickling DeepLearning\\data\\notMNIST_large\\C.pickle.\n"
     ]
    },
    {
     "name": "stdout",
     "output_type": "stream",
     "text": [
      "(52912, 28, 28)\nDeepLearning\\data\\notMNIST_large\\C\n"
     ]
    },
    {
     "name": "stdout",
     "output_type": "stream",
     "text": [
      "Full dataset tensor: (52912, 28, 28)\nMean: -0.142258\n"
     ]
    },
    {
     "name": "stdout",
     "output_type": "stream",
     "text": [
      "Standard deviation: 0.439806\n"
     ]
    },
    {
     "name": "stdout",
     "output_type": "stream",
     "text": [
      "Pickling DeepLearning\\data\\notMNIST_large\\D.pickle.\n"
     ]
    },
    {
     "name": "stdout",
     "output_type": "stream",
     "text": [
      "(52912, 28, 28)\nDeepLearning\\data\\notMNIST_large\\D\n"
     ]
    },
    {
     "name": "stdout",
     "output_type": "stream",
     "text": [
      "Could not read: DeepLearning\\data\\notMNIST_large\\D\\VHJhbnNpdCBCb2xkLnR0Zg==.png : Could not find a format to read the specified file in mode 'i' - it's ok, skipping.\n"
     ]
    },
    {
     "name": "stdout",
     "output_type": "stream",
     "text": [
      "Full dataset tensor: (52911, 28, 28)\nMean: -0.0573678\nStandard deviation: 0.455648\n"
     ]
    },
    {
     "name": "stdout",
     "output_type": "stream",
     "text": [
      "Pickling DeepLearning\\data\\notMNIST_large\\E.pickle.\n"
     ]
    },
    {
     "name": "stdout",
     "output_type": "stream",
     "text": [
      "(52912, 28, 28)\nDeepLearning\\data\\notMNIST_large\\E\n"
     ]
    },
    {
     "name": "stdout",
     "output_type": "stream",
     "text": [
      "Full dataset tensor: (52912, 28, 28)\nMean: -0.069899\n"
     ]
    },
    {
     "name": "stdout",
     "output_type": "stream",
     "text": [
      "Standard deviation: 0.452942\n"
     ]
    },
    {
     "name": "stdout",
     "output_type": "stream",
     "text": [
      "Pickling DeepLearning\\data\\notMNIST_large\\F.pickle.\n"
     ]
    },
    {
     "name": "stdout",
     "output_type": "stream",
     "text": [
      "(52912, 28, 28)\nDeepLearning\\data\\notMNIST_large\\F\n"
     ]
    },
    {
     "name": "stdout",
     "output_type": "stream",
     "text": [
      "Full dataset tensor: (52912, 28, 28)\nMean: -0.125583\n"
     ]
    },
    {
     "name": "stdout",
     "output_type": "stream",
     "text": [
      "Standard deviation: 0.44709\n"
     ]
    },
    {
     "name": "stdout",
     "output_type": "stream",
     "text": [
      "Pickling DeepLearning\\data\\notMNIST_large\\G.pickle.\n"
     ]
    },
    {
     "name": "stdout",
     "output_type": "stream",
     "text": [
      "(52912, 28, 28)\nDeepLearning\\data\\notMNIST_large\\G\n"
     ]
    },
    {
     "name": "stdout",
     "output_type": "stream",
     "text": [
      "Full dataset tensor: (52912, 28, 28)\nMean: -0.0945814\n"
     ]
    },
    {
     "name": "stdout",
     "output_type": "stream",
     "text": [
      "Standard deviation: 0.44624\n"
     ]
    },
    {
     "name": "stdout",
     "output_type": "stream",
     "text": [
      "Pickling DeepLearning\\data\\notMNIST_large\\H.pickle.\n"
     ]
    },
    {
     "name": "stdout",
     "output_type": "stream",
     "text": [
      "(52912, 28, 28)\nDeepLearning\\data\\notMNIST_large\\H\n"
     ]
    },
    {
     "name": "stdout",
     "output_type": "stream",
     "text": [
      "Full dataset tensor: (52912, 28, 28)\nMean: -0.0685221\nStandard deviation: 0.454232\n"
     ]
    },
    {
     "name": "stdout",
     "output_type": "stream",
     "text": [
      "Pickling DeepLearning\\data\\notMNIST_large\\I.pickle.\n"
     ]
    },
    {
     "name": "stdout",
     "output_type": "stream",
     "text": [
      "(52912, 28, 28)\nDeepLearning\\data\\notMNIST_large\\I\n"
     ]
    },
    {
     "name": "stdout",
     "output_type": "stream",
     "text": [
      "Full dataset tensor: (52912, 28, 28)\nMean: 0.0307862\n"
     ]
    },
    {
     "name": "stdout",
     "output_type": "stream",
     "text": [
      "Standard deviation: 0.468899\n"
     ]
    },
    {
     "name": "stdout",
     "output_type": "stream",
     "text": [
      "Pickling DeepLearning\\data\\notMNIST_large\\J.pickle.\n"
     ]
    },
    {
     "name": "stdout",
     "output_type": "stream",
     "text": [
      "(52911, 28, 28)\nDeepLearning\\data\\notMNIST_large\\J\n"
     ]
    },
    {
     "name": "stdout",
     "output_type": "stream",
     "text": [
      "Full dataset tensor: (52911, 28, 28)\nMean: -0.153358\n"
     ]
    },
    {
     "name": "stdout",
     "output_type": "stream",
     "text": [
      "Standard deviation: 0.443656\n"
     ]
    },
    {
     "name": "stdout",
     "output_type": "stream",
     "text": [
      "Pickling DeepLearning\\data\\notMNIST_small\\A.pickle.\n(1873, 28, 28)\nDeepLearning\\data\\notMNIST_small\\A\n"
     ]
    },
    {
     "name": "stdout",
     "output_type": "stream",
     "text": [
      "Could not read: DeepLearning\\data\\notMNIST_small\\A\\RGVtb2NyYXRpY2FCb2xkT2xkc3R5bGUgQm9sZC50dGY=.png : Could not find a format to read the specified file in mode 'i' - it's ok, skipping.\n"
     ]
    },
    {
     "name": "stdout",
     "output_type": "stream",
     "text": [
      "Full dataset tensor: (1872, 28, 28)\nMean: -0.132626\nStandard deviation: 0.445128\nPickling DeepLearning\\data\\notMNIST_small\\B.pickle.\n(1873, 28, 28)\nDeepLearning\\data\\notMNIST_small\\B\n"
     ]
    },
    {
     "name": "stdout",
     "output_type": "stream",
     "text": [
      "Full dataset tensor: (1873, 28, 28)\nMean: 0.00535609\nStandard deviation: 0.457115\nPickling DeepLearning\\data\\notMNIST_small\\C.pickle.\n"
     ]
    },
    {
     "name": "stdout",
     "output_type": "stream",
     "text": [
      "(1873, 28, 28)\nDeepLearning\\data\\notMNIST_small\\C\n"
     ]
    },
    {
     "name": "stdout",
     "output_type": "stream",
     "text": [
      "Full dataset tensor: (1873, 28, 28)\nMean: -0.141521\nStandard deviation: 0.44269\nPickling DeepLearning\\data\\notMNIST_small\\D.pickle.\n(1873, 28, 28)\nDeepLearning\\data\\notMNIST_small\\D\n"
     ]
    },
    {
     "name": "stdout",
     "output_type": "stream",
     "text": [
      "Full dataset tensor: (1873, 28, 28)\nMean: -0.0492167\nStandard deviation: 0.459759\nPickling DeepLearning\\data\\notMNIST_small\\E.pickle.\n(1873, 28, 28)\nDeepLearning\\data\\notMNIST_small\\E\n"
     ]
    },
    {
     "name": "stdout",
     "output_type": "stream",
     "text": [
      "Full dataset tensor: (1873, 28, 28)\nMean: -0.0599148\nStandard deviation: 0.45735\nPickling DeepLearning\\data\\notMNIST_small\\F.pickle.\n(1873, 28, 28)\nDeepLearning\\data\\notMNIST_small\\F\n"
     ]
    },
    {
     "name": "stdout",
     "output_type": "stream",
     "text": [
      "Could not read: DeepLearning\\data\\notMNIST_small\\F\\Q3Jvc3NvdmVyIEJvbGRPYmxpcXVlLnR0Zg==.png : Could not find a format to read the specified file in mode 'i' - it's ok, skipping.\n"
     ]
    },
    {
     "name": "stdout",
     "output_type": "stream",
     "text": [
      "Full dataset tensor: (1872, 28, 28)\nMean: -0.118185\nStandard deviation: 0.452279\nPickling DeepLearning\\data\\notMNIST_small\\G.pickle.\n(1872, 28, 28)\nDeepLearning\\data\\notMNIST_small\\G\n"
     ]
    },
    {
     "name": "stdout",
     "output_type": "stream",
     "text": [
      "Full dataset tensor: (1872, 28, 28)\nMean: -0.0925503\nStandard deviation: 0.449006\nPickling DeepLearning\\data\\notMNIST_small\\H.pickle.\n"
     ]
    },
    {
     "name": "stdout",
     "output_type": "stream",
     "text": [
      "(1872, 28, 28)\nDeepLearning\\data\\notMNIST_small\\H\n"
     ]
    },
    {
     "name": "stdout",
     "output_type": "stream",
     "text": [
      "Full dataset tensor: (1872, 28, 28)\nMean: -0.0586893\nStandard deviation: 0.458759\nPickling DeepLearning\\data\\notMNIST_small\\I.pickle.\n"
     ]
    },
    {
     "name": "stdout",
     "output_type": "stream",
     "text": [
      "(1872, 28, 28)\nDeepLearning\\data\\notMNIST_small\\I\n"
     ]
    },
    {
     "name": "stdout",
     "output_type": "stream",
     "text": [
      "Full dataset tensor: (1872, 28, 28)\nMean: 0.0526451\nStandard deviation: 0.471894\nPickling DeepLearning\\data\\notMNIST_small\\J.pickle.\n(1872, 28, 28)\nDeepLearning\\data\\notMNIST_small\\J\n"
     ]
    },
    {
     "name": "stdout",
     "output_type": "stream",
     "text": [
      "Full dataset tensor: (1872, 28, 28)\nMean: -0.151689\nStandard deviation: 0.448014\n"
     ]
    }
   ],
   "source": [
    "image_size = 28  # Pixel width and height.\n",
    "pixel_depth = 255.0  # Number of levels per pixel.\n",
    "\n",
    "\n",
    "def load_letter(folder, min_num_images):\n",
    "    \"\"\"Load the data for a single letter label.\"\"\"\n",
    "    image_files = os.listdir(folder)\n",
    "    dataset = np.ndarray(shape=(len(image_files), image_size, image_size),\n",
    "                         dtype=np.float32)\n",
    "    print (dataset.shape)\n",
    "    print(folder)\n",
    "    num_images = 0\n",
    "    for image in image_files:\n",
    "        image_file = os.path.join(folder, image)\n",
    "        try:\n",
    "            # normalize to [-0.5 .. 0.5] range\n",
    "            image_data = (imageio.imread(image_file).astype(float) -\n",
    "                          pixel_depth / 2) / pixel_depth\n",
    "            if image_data.shape != (image_size, image_size):\n",
    "                raise Exception('Unexpected image shape: %s' % str(image_data.shape))\n",
    "            dataset[num_images, :, :] = image_data\n",
    "            num_images = num_images + 1\n",
    "        except (IOError, ValueError) as e:\n",
    "            print('Could not read:', image_file, ':', e, '- it\\'s ok, skipping.')\n",
    "    \n",
    "    dataset = dataset[0:num_images, :, :]\n",
    "    if num_images < min_num_images:\n",
    "        raise Exception('Many fewer images than expected: %d < %d' %\n",
    "                        (num_images, min_num_images))\n",
    "    \n",
    "    print('Full dataset tensor:', dataset.shape)\n",
    "    print('Mean:', np.mean(dataset))\n",
    "    print('Standard deviation:', np.std(dataset))\n",
    "    return dataset\n",
    "\n",
    "def maybe_pickle(data_folders, min_num_images_per_class, force=False):\n",
    "    dataset_names = []\n",
    "    for folder in data_folders:\n",
    "        set_filename = folder + '.pickle'\n",
    "        dataset_names.append(set_filename)\n",
    "        if os.path.exists(set_filename) and not force:\n",
    "            # You may override by setting force=True.\n",
    "            print('%s already present - Skipping pickling.' % set_filename)\n",
    "        else:\n",
    "            print('Pickling %s.' % set_filename)\n",
    "            dataset = load_letter(folder, min_num_images_per_class)\n",
    "            try:\n",
    "                with open(set_filename, 'wb') as f:\n",
    "                    pickle.dump(dataset, f, pickle.HIGHEST_PROTOCOL)\n",
    "            except Exception as e:\n",
    "                print('Unable to save data to', set_filename, ':', e)\n",
    "    \n",
    "    return dataset_names\n",
    "\n",
    "train_datasets = maybe_pickle(train_folders, 45000)\n",
    "test_datasets = maybe_pickle(test_folders, 1800)\n"
   ]
  },
  {
   "cell_type": "markdown",
   "metadata": {
    "id": "vUdbskYE2d87",
    "colab_type": "text"
   },
   "source": [
    "---\n",
    "Problem 2\n",
    "---------\n",
    "\n",
    "Let's verify that the data still looks good. Displaying a sample of the labels and images from the ndarray. Hint: you can use matplotlib.pyplot.\n",
    "\n",
    "---"
   ]
  },
  {
   "cell_type": "code",
   "execution_count": 23,
   "metadata": {},
   "outputs": [
    {
     "name": "stdout",
     "output_type": "stream",
     "text": [
      "DeepLearning\\data\\notMNIST_large\\A.pickle\n"
     ]
    },
    {
     "data": {
      "image/png": "[encoded data removed]",
      "text/plain": [
       "<matplotlib.figure.Figure at 0xa2fbba8>"
      ]
     },
     "metadata": {},
     "output_type": "display_data"
    }
   ],
   "source": [
    "pickle_file = train_datasets[0]  # index 0 should be all As, 1 = all Bs, etc.\n",
    "print(pickle_file)\n",
    "with open(pickle_file, 'rb') as f:\n",
    "    letter_set = pickle.load(f)  # unpickle\n",
    "    sample_idx = np.random.randint(len(letter_set))  # pick a random image index\n",
    "    sample_image = letter_set[sample_idx, :, :]  # extract a 2D slice\n",
    "    plt.figure()\n",
    "    plt.imshow(sample_image)"
   ]
  },
  {
   "cell_type": "markdown",
   "metadata": {
    "id": "cYznx5jUwzoO",
    "colab_type": "text"
   },
   "source": [
    "---\n",
    "Problem 3\n",
    "---------\n",
    "Another check: we expect the data to be balanced across classes. Verify that.\n",
    "\n",
    "---"
   ]
  },
  {
   "cell_type": "code",
   "execution_count": 34,
   "metadata": {},
   "outputs": [
    {
     "name": "stdout",
     "output_type": "stream",
     "text": [
      "TEST DATASET\nDeepLearning\\data\\notMNIST_small\\A.pickle : (1872, 28, 28)\nDeepLearning\\data\\notMNIST_small\\B.pickle : (1873, 28, 28)\nDeepLearning\\data\\notMNIST_small\\C.pickle : (1873, 28, 28)\nDeepLearning\\data\\notMNIST_small\\D.pickle : (1873, 28, 28)\nDeepLearning\\data\\notMNIST_small\\E.pickle : (1873, 28, 28)\nDeepLearning\\data\\notMNIST_small\\F.pickle : (1872, 28, 28)\nDeepLearning\\data\\notMNIST_small\\G.pickle : (1872, 28, 28)\nDeepLearning\\data\\notMNIST_small\\H.pickle : (1872, 28, 28)\nDeepLearning\\data\\notMNIST_small\\I.pickle : (1872, 28, 28)\nDeepLearning\\data\\notMNIST_small\\J.pickle : (1872, 28, 28)\nTRAINING SET\n"
     ]
    },
    {
     "name": "stdout",
     "output_type": "stream",
     "text": [
      "DeepLearning\\data\\notMNIST_large\\A.pickle : (52909, 28, 28)\n"
     ]
    },
    {
     "name": "stdout",
     "output_type": "stream",
     "text": [
      "DeepLearning\\data\\notMNIST_large\\B.pickle : (52911, 28, 28)\n"
     ]
    },
    {
     "name": "stdout",
     "output_type": "stream",
     "text": [
      "DeepLearning\\data\\notMNIST_large\\C.pickle : (52912, 28, 28)\n"
     ]
    },
    {
     "name": "stdout",
     "output_type": "stream",
     "text": [
      "DeepLearning\\data\\notMNIST_large\\D.pickle : (52911, 28, 28)\n"
     ]
    },
    {
     "name": "stdout",
     "output_type": "stream",
     "text": [
      "DeepLearning\\data\\notMNIST_large\\E.pickle : (52912, 28, 28)\n"
     ]
    },
    {
     "name": "stdout",
     "output_type": "stream",
     "text": [
      "DeepLearning\\data\\notMNIST_large\\F.pickle : (52912, 28, 28)\n"
     ]
    },
    {
     "name": "stdout",
     "output_type": "stream",
     "text": [
      "DeepLearning\\data\\notMNIST_large\\G.pickle : (52912, 28, 28)\n"
     ]
    },
    {
     "name": "stdout",
     "output_type": "stream",
     "text": [
      "DeepLearning\\data\\notMNIST_large\\H.pickle : (52912, 28, 28)\n"
     ]
    },
    {
     "name": "stdout",
     "output_type": "stream",
     "text": [
      "DeepLearning\\data\\notMNIST_large\\I.pickle : (52912, 28, 28)\n"
     ]
    },
    {
     "name": "stdout",
     "output_type": "stream",
     "text": [
      "DeepLearning\\data\\notMNIST_large\\J.pickle : (52911, 28, 28)\n"
     ]
    }
   ],
   "source": [
    "print(\"TEST DATASET\")\n",
    "for pickle_file in test_datasets:\n",
    "    with open(pickle_file, 'rb') as f:\n",
    "        letter_set = pickle.load(f)\n",
    "        print(pickle_file, \":\", letter_set.shape)\n",
    "print(\"TRAINING SET\")\n",
    "for pickle_file in train_datasets:\n",
    "    with open(pickle_file, 'rb') as f:\n",
    "        letter_set = pickle.load(f)\n",
    "        print(pickle_file, \":\" ,letter_set.shape)"
   ]
  },
  {
   "cell_type": "markdown",
   "metadata": {
    "id": "LA7M7K22ynCt",
    "colab_type": "text"
   },
   "source": [
    "Merge and prune the training data as needed. Depending on your computer setup, you might not be able to fit it all in memory, and you can tune `train_size` as needed. The labels will be stored into a separate array of integers 0 through 9.\n",
    "\n",
    "Also create a validation dataset for hyperparameter tuning."
   ]
  },
  {
   "cell_type": "code",
   "execution_count": 36,
   "metadata": {
    "id": "s3mWgZLpyuzq",
    "colab_type": "code",
    "colab": {
     "autoexec": {
      "startup": false,
      "wait_interval": 0.0
     },
     "output_extras": [
      {
       "item_id": 1.0
      }
     ]
    },
    "cellView": "both",
    "executionInfo": {
     "elapsed": 411281.0,
     "status": "ok",
     "timestamp": 1.444485897869E12,
     "user": {
      "color": "#1FA15D",
      "displayName": "Vincent Vanhoucke",
      "isAnonymous": false,
      "isMe": true,
      "permissionId": "05076109866853157986",
      "photoUrl": "//lh6.googleusercontent.com/-cCJa7dTDcgQ/AAAAAAAAAAI/AAAAAAAACgw/r2EZ_8oYer4/s50-c-k-no/photo.jpg",
      "sessionId": "2a0a5e044bb03b66",
      "userId": "102167687554210253930"
     },
     "user_tz": 420.0
    },
    "outputId": "8af66da6-902d-4719-bedc-7c9fb7ae7948"
   },
   "outputs": [
    {
     "name": "stdout",
     "output_type": "stream",
     "text": [
      "Training: (200000, 28, 28) (200000,)\nValidation: (10000, 28, 28) (10000,)\nTesting: (10000, 28, 28) (10000,)\n"
     ]
    }
   ],
   "source": [
    "def make_arrays(nb_rows, img_size):\n",
    "  if nb_rows:\n",
    "    dataset = np.ndarray((nb_rows, img_size, img_size), dtype=np.float32)\n",
    "    labels = np.ndarray(nb_rows, dtype=np.int32)\n",
    "  else:\n",
    "    dataset, labels = None, None\n",
    "  return dataset, labels\n",
    "\n",
    "def merge_datasets(pickle_files, train_size, valid_size=0):\n",
    "  num_classes = len(pickle_files)\n",
    "  valid_dataset, valid_labels = make_arrays(valid_size, image_size)\n",
    "  train_dataset, train_labels = make_arrays(train_size, image_size)\n",
    "  vsize_per_class = valid_size // num_classes\n",
    "  tsize_per_class = train_size // num_classes\n",
    "    \n",
    "  start_v, start_t = 0, 0\n",
    "  end_v, end_t = vsize_per_class, tsize_per_class\n",
    "  end_l = vsize_per_class+tsize_per_class\n",
    "  for label, pickle_file in enumerate(pickle_files):       \n",
    "    try:\n",
    "      with open(pickle_file, 'rb') as f:\n",
    "        letter_set = pickle.load(f)\n",
    "        # let's shuffle the letters to have random validation and training set\n",
    "        np.random.shuffle(letter_set)\n",
    "        if valid_dataset is not None:\n",
    "          valid_letter = letter_set[:vsize_per_class, :, :]\n",
    "          valid_dataset[start_v:end_v, :, :] = valid_letter\n",
    "          valid_labels[start_v:end_v] = label\n",
    "          start_v += vsize_per_class\n",
    "          end_v += vsize_per_class\n",
    "                    \n",
    "        train_letter = letter_set[vsize_per_class:end_l, :, :]\n",
    "        train_dataset[start_t:end_t, :, :] = train_letter\n",
    "        train_labels[start_t:end_t] = label\n",
    "        start_t += tsize_per_class\n",
    "        end_t += tsize_per_class\n",
    "    except Exception as e:\n",
    "      print('Unable to process data from', pickle_file, ':', e)\n",
    "      raise\n",
    "    \n",
    "  return valid_dataset, valid_labels, train_dataset, train_labels\n",
    "            \n",
    "            \n",
    "train_size = 200000\n",
    "valid_size = 10000\n",
    "test_size = 10000\n",
    "\n",
    "valid_dataset, valid_labels, train_dataset, train_labels = merge_datasets(\n",
    "  train_datasets, train_size, valid_size)\n",
    "_, _, test_dataset, test_labels = merge_datasets(test_datasets, test_size)\n",
    "\n",
    "print('Training:', train_dataset.shape, train_labels.shape)\n",
    "print('Validation:', valid_dataset.shape, valid_labels.shape)\n",
    "print('Testing:', test_dataset.shape, test_labels.shape)"
   ]
  },
  {
   "cell_type": "markdown",
   "metadata": {
    "id": "GPTCnjIcyuKN",
    "colab_type": "text"
   },
   "source": [
    "Next, we'll randomize the data. It's important to have the labels well shuffled for the training and test distributions to match."
   ]
  },
  {
   "cell_type": "code",
   "execution_count": 37,
   "metadata": {
    "id": "6WZ2l2tN2zOL",
    "colab_type": "code",
    "colab": {
     "autoexec": {
      "startup": false,
      "wait_interval": 0.0
     }
    },
    "cellView": "both"
   },
   "outputs": [],
   "source": [
    "def randomize(dataset, labels):\n",
    "  permutation = np.random.permutation(labels.shape[0])\n",
    "  shuffled_dataset = dataset[permutation,:,:]\n",
    "  shuffled_labels = labels[permutation]\n",
    "  return shuffled_dataset, shuffled_labels\n",
    "train_dataset, train_labels = randomize(train_dataset, train_labels)\n",
    "test_dataset, test_labels = randomize(test_dataset, test_labels)\n",
    "valid_dataset, valid_labels = randomize(valid_dataset, valid_labels)"
   ]
  },
  {
   "cell_type": "markdown",
   "metadata": {
    "id": "puDUTe6t6USl",
    "colab_type": "text"
   },
   "source": [
    "---\n",
    "Problem 4\n",
    "---------\n",
    "Convince yourself that the data is still good after shuffling!\n",
    "\n",
    "---"
   ]
  },
  {
   "cell_type": "code",
   "execution_count": 51,
   "metadata": {},
   "outputs": [
    {
     "name": "stdout",
     "output_type": "stream",
     "text": [
      "Training: (200000, 28, 28) (200000,)\nValidation: (10000, 28, 28) (10000,)\nTesting: (10000, 28, 28) (10000,)\nLetter at  78267 : E\n[ 0.35882354  0.24509804  0.18235295  0.19411765  0.19411765  0.19411765\n  0.19411765  0.19411765  0.19411765  0.19411765  0.19411765  0.19411765\n  0.19411765  0.19411765  0.19411765  0.19411765  0.19411765  0.19411765\n  0.19411765  0.19411765  0.19411765  0.19411765  0.19411765  0.19411765\n  0.19019608  0.2254902  -0.30784315 -0.5       ]\n"
     ]
    },
    {
     "data": {
      "image/png": "[encoded data removed]",
      "text/plain": [
       "<matplotlib.figure.Figure at 0xa4d95f8>"
      ]
     },
     "metadata": {},
     "output_type": "display_data"
    }
   ],
   "source": [
    "print('Training:', train_dataset.shape, train_labels.shape)\n",
    "print('Validation:', valid_dataset.shape, valid_labels.shape)\n",
    "print('Testing:', test_dataset.shape, test_labels.shape)\n",
    "letters = ['A','B','C','D','E','F','G','H','I']\n",
    "sample_idx = np.random.randint(train_labels.shape[0])  # pick a random image index\n",
    "sample_image = train_dataset[sample_idx, :, :]  # extract a 2D slice\n",
    "plt.figure()\n",
    "plt.imshow(sample_image)\n",
    "print(\"Letter at \",sample_idx,\":\", letters[train_labels[sample_idx]])\n",
    "print(sample_image[0])"
   ]
  },
  {
   "cell_type": "markdown",
   "metadata": {
    "id": "tIQJaJuwg5Hw",
    "colab_type": "text"
   },
   "source": [
    "Finally, let's save the data for later reuse:"
   ]
  },
  {
   "cell_type": "code",
   "execution_count": 48,
   "metadata": {
    "id": "QiR_rETzem6C",
    "colab_type": "code",
    "colab": {
     "autoexec": {
      "startup": false,
      "wait_interval": 0.0
     }
    },
    "cellView": "both"
   },
   "outputs": [],
   "source": [
    "pickle_file = os.path.join(data_root, 'notMNIST.pickle')\n",
    "\n",
    "try:\n",
    "  f = open(pickle_file, 'wb')\n",
    "  save = {\n",
    "    'train_dataset': train_dataset,\n",
    "    'train_labels': train_labels,\n",
    "    'valid_dataset': valid_dataset,\n",
    "    'valid_labels': valid_labels,\n",
    "    'test_dataset': test_dataset,\n",
    "    'test_labels': test_labels,\n",
    "    }\n",
    "  pickle.dump(save, f, pickle.HIGHEST_PROTOCOL)\n",
    "  f.close()\n",
    "except Exception as e:\n",
    "  print('Unable to save data to', pickle_file, ':', e)\n",
    "  raise"
   ]
  },
  {
   "cell_type": "code",
   "execution_count": 52,
   "metadata": {
    "id": "hQbLjrW_iT39",
    "colab_type": "code",
    "colab": {
     "autoexec": {
      "startup": false,
      "wait_interval": 0.0
     },
     "output_extras": [
      {
       "item_id": 1.0
      }
     ]
    },
    "cellView": "both",
    "executionInfo": {
     "elapsed": 413065.0,
     "status": "ok",
     "timestamp": 1.444485899688E12,
     "user": {
      "color": "#1FA15D",
      "displayName": "Vincent Vanhoucke",
      "isAnonymous": false,
      "isMe": true,
      "permissionId": "05076109866853157986",
      "photoUrl": "//lh6.googleusercontent.com/-cCJa7dTDcgQ/AAAAAAAAAAI/AAAAAAAACgw/r2EZ_8oYer4/s50-c-k-no/photo.jpg",
      "sessionId": "2a0a5e044bb03b66",
      "userId": "102167687554210253930"
     },
     "user_tz": 420.0
    },
    "outputId": "b440efc6-5ee1-4cbc-d02d-93db44ebd956"
   },
   "outputs": [
    {
     "name": "stdout",
     "output_type": "stream",
     "text": [
      "Compressed pickle size: 690800503\n"
     ]
    }
   ],
   "source": [
    "statinfo = os.stat(pickle_file)\n",
    "print('Compressed pickle size:', statinfo.st_size)"
   ]
  },
  {
   "cell_type": "markdown",
   "metadata": {
    "id": "gE_cRAQB33lk",
    "colab_type": "text"
   },
   "source": [
    "---\n",
    "Problem 5\n",
    "---------\n",
    "\n",
    "By construction, this dataset might contain a lot of overlapping samples, including training data that's also contained in the validation and test set! Overlap between training and test can skew the results if you expect to use your model in an environment where there is never an overlap, but are actually ok if you expect to see training samples recur when you use it.\n",
    "Measure how much overlap there is between training, validation and test samples.\n",
    "\n",
    "Optional questions:\n",
    "- What about near duplicates between datasets? (images that are almost identical)\n",
    "- Create a sanitized validation and test set, and compare your accuracy on those in subsequent assignments.\n",
    "---"
   ]
  },
  {
   "cell_type": "code",
   "execution_count": 144,
   "metadata": {
    "collapsed": true
   },
   "outputs": [
    {
     "name": "stdout",
     "output_type": "stream",
     "text": [
      "A shape: (10000, 784)\nB shape: (200000, 784)\n|V3136\n"
     ]
    },
    {
     "name": "stdout",
     "output_type": "stream",
     "text": [
      "valid dataset overlapping count: 1097\nA shape: (10000, 784)\nB shape: (200000, 784)\n|V3136\n"
     ]
    },
    {
     "name": "stdout",
     "output_type": "stream",
     "text": [
      "test dataset overlapping count: 1301\nA shape: (200000, 784)\nB shape: (1097, 784)\n|V3136\n"
     ]
    },
    {
     "name": "stdout",
     "output_type": "stream",
     "text": [
      "train x valid overlapping count: 3465\n"
     ]
    }
   ],
   "source": [
    "def find_overlap(A, B):\n",
    "\n",
    "    if not A.dtype == B.dtype:\n",
    "        raise TypeError(\"A and B must have the same dtype\")\n",
    "    if not A.shape[1:] == B.shape[1:]:\n",
    "        raise ValueError(\"the shapes of A and B must be identical apart from \"\n",
    "                         \"the row dimension\")\n",
    "\n",
    "    # reshape A and B to 2D arrays. force a copy if neccessary in order to\n",
    "    # ensure that they are C-contiguous.\n",
    "    A = np.ascontiguousarray(A.reshape(A.shape[0], -1))\n",
    "    print (\"A shape:\", A.shape)\n",
    "    B = np.ascontiguousarray(B.reshape(B.shape[0], -1))\n",
    "    print (\"B shape:\", B.shape)\n",
    "    # void type that views each row in A and B as a single item\n",
    "    t = np.dtype((np.void, A.dtype.itemsize * A.shape[1]))\n",
    "    print(t)\n",
    "    # use in1d to find rows in A that are also in B\n",
    "    # return np.in1d(A.view(t), B.view(t)), np.in1d(B.view(t), A.view(t))\n",
    "    return np.in1d(A.view(t), B.view(t))\n",
    "\n",
    "\n",
    "# find overlapping indices in valid dataset\n",
    "valid_overlap = find_overlap(valid_dataset, train_dataset)\n",
    "print(\"valid dataset overlapping count:\", valid_dataset[valid_overlap].shape[0])\n",
    "# print(valid_overlap.shape,\"; \",np.where(valid_overlap==True))\n",
    "\n",
    "# find overlapping indices in test dataset\n",
    "test_overlap = find_overlap(test_dataset, train_dataset)\n",
    "print(\"test dataset overlapping count:\", test_dataset[test_overlap].shape[0])\n",
    "\n",
    "# check overlapping indices in train dataset over valid dataset\n",
    "ov = find_overlap(train_dataset,valid_dataset[valid_overlap])\n",
    "print (\"train x valid overlapping count:\", train_dataset[ov].shape[0])\n"
   ]
  },
  {
   "cell_type": "code",
   "execution_count": 147,
   "metadata": {},
   "outputs": [
    {
     "name": "stdout",
     "output_type": "stream",
     "text": [
      "test_labels: (10000,) ;  7\n"
     ]
    },
    {
     "data": {
      "image/png": "[encoded data removed]",
      "text/plain": [
       "<matplotlib.figure.Figure at 0xf6586d8>"
      ]
     },
     "metadata": {},
     "output_type": "display_data"
    },
    {
     "data": {
      "image/png": "[encoded data removed]",
      "text/plain": [
       "<matplotlib.figure.Figure at 0xf592080>"
      ]
     },
     "metadata": {},
     "output_type": "display_data"
    }
   ],
   "source": [
    "plt.figure()\n",
    "plt.imshow(valid_dataset[ 9990,:,:])\n",
    "plt.figure()\n",
    "plt.imshow(train_dataset[ 177069,:,:])\n",
    "print(\"test_labels:\", test_labels.shape,\"; \",test_labels[400])"
   ]
  },
  {
   "cell_type": "markdown",
   "metadata": {
    "id": "L8oww1s4JMQx",
    "colab_type": "text"
   },
   "source": [
    "---\n",
    "Problem 6\n",
    "---------\n",
    "\n",
    "Let's get an idea of what an off-the-shelf classifier can give you on this data. It's always good to check that there is something to learn, and that it's a problem that is not so trivial that a canned solution solves it.\n",
    "\n",
    "Train a simple model on this data using 50, 100, 1000 and 5000 training samples. Hint: you can use the LogisticRegression model from sklearn.linear_model.\n",
    "\n",
    "Optional question: train an off-the-shelf model on all the data!\n",
    "\n",
    "---"
   ]
  },
  {
   "cell_type": "code",
   "execution_count": 39,
   "metadata": {
    "collapsed": true
   },
   "outputs": [
    {
     "name": "stdout",
     "output_type": "stream",
     "text": [
      "DeepLearning\\data\\notMNIST.pickle\n"
     ]
    },
    {
     "name": "stdout",
     "output_type": "stream",
     "text": [
      "<built-in method keys of dict object at 0x00000000100287C8>\n"
     ]
    },
    {
     "data": {
      "text/plain": [
       "<matplotlib.image.AxesImage at 0xc2dcf60>"
      ]
     },
     "execution_count": 39,
     "metadata": {},
     "output_type": "execute_result"
    },
    {
     "data": {
      "image/png": "[encoded data removed]",
      "text/plain": [
       "<matplotlib.figure.Figure at 0xae0d0b8>"
      ]
     },
     "metadata": {},
     "output_type": "display_data"
    }
   ],
   "source": [
    "# Working with pickled dictionary\n",
    "# {\n",
    "#    'train_dataset': train_dataset,\n",
    "#    'train_labels': train_labels,\n",
    "#    'valid_dataset': valid_dataset,\n",
    "#    'valid_labels': valid_labels,\n",
    "#    'test_dataset': test_dataset,\n",
    "#    'test_labels': test_labels,\n",
    "#  } \n",
    "\n",
    "data_root = 'DeepLearning\\\\data'\n",
    "pickle_file = os.path.join(data_root,\"notMNIST.pickle\")\n",
    "print(pickle_file)\n",
    "if not os.path.exists(pickle_file):\n",
    "    raise Exception('File not exist: ', pickle_file)\n",
    "f = open(pickle_file, 'rb')\n",
    "letter_set = pickle.load(f)  # unpickle\n",
    "print(letter_set.keys)\n",
    "\n",
    "train_dataset = letter_set['train_dataset']\n",
    "train_labels = letter_set['train_labels']\n",
    "valid_dataset = letter_set['valid_dataset']\n",
    "valid_labels = letter_set['test_dataset']\n",
    "test_dataset = letter_set['test_dataset']\n",
    "test_labels = letter_set['test_labels']\n",
    "sample_idx = np.random.randint(len(train_dataset))  # pick a random image index\n",
    "sample_image = train_dataset[sample_idx, :, :]  # extract a 2D slice\n",
    "plt.figure()\n",
    "plt.imshow(sample_image)"
   ]
  },
  {
   "cell_type": "code",
   "execution_count": 41,
   "metadata": {},
   "outputs": [
    {
     "name": "stdout",
     "output_type": "stream",
     "text": [
      "Start fit of Logistic regression\n"
     ]
    }
   ],
   "source": [
    "from sklearn.naive_bayes import GaussianNB\n",
    "from sklearn.linear_model import LogisticRegression\n",
    "\n",
    "\n",
    "def maybe_pickle(data, data_file, force=False):\n",
    "    if os.path.exists(data_file) and not force:\n",
    "        # You may override by setting force=True.\n",
    "        print('%s already present - Skipping pickling.' % data_file)\n",
    "    else:\n",
    "        print('Pickling %s.' % data_file)\n",
    "        with open(data_file, 'wb') as f:\n",
    "            try:\n",
    "                pickle.dump(data, f, pickle.HIGHEST_PROTOCOL)\n",
    "            except Exception as e:\n",
    "                print('Unable to save data to', data_file, ':', e)\n",
    "    return True\n",
    "\n",
    "\n",
    "def classifyNB(features_train, labels_train):\n",
    "    # create classifier\n",
    "    c = GaussianNB()\n",
    "    # fit the classifier on the training features and labels\n",
    "    # return the fit classifier\n",
    "    return c.fit(features_train, labels_train)\n",
    "\n",
    "\n",
    "def classifyLR(features_train, labels_train):\n",
    "    # create classifier\n",
    "    c = LogisticRegression()\n",
    "    # fit the classifier on the training features and labels\n",
    "    # return the fit classifier\n",
    "    return c.fit(features_train, labels_train)\n",
    "\n",
    "\n",
    "trainingset = train_dataset.reshape(train_dataset.shape[0], -1)\n",
    "testset = test_dataset.reshape(test_dataset.shape[0], -1)\n",
    "train_size = train_dataset.shape[0]\n",
    "test_size = test_dataset.shape[0]\n",
    "#print (\"Start fit of Naive bayes\")\n",
    "#clfNB = classifyNB(trainingset[:train_size,:],train_labels[:train_size])\n",
    "#accuracyNB = clfNB.score(testset[:test_size,:], test_labels[:test_size])\n",
    "#print(\"Naive Base accuracy is \", accuracyNB)\n",
    "\n",
    "#pickle_file = os.path.join(data_root,\"clfNB.pickle\")\n",
    "#maybe_pickle(clfNB, pickle_file)\n",
    "\n",
    "print(\"Start fit of Logistic regression\")\n",
    "clfLR = classifyLR(trainingset[:train_size, :], train_labels[:train_size])\n",
    "print(\"End fit of Logistic regression\")\n",
    "accuracyLR = clfLR.score(testset[:test_size, :], test_labels[:test_size])\n",
    "print(\"LogisticRegression is \", accuracyLR)\n",
    "pickle_file = os.path.join(data_root, \"clfLR.pickle\")\n",
    "maybe_pickle(clfLR, pickle_file, True)\n",
    "print(\"Pickling is done \", pickle_file)"
   ]
  },
  {
   "cell_type": "code",
   "execution_count": 37,
   "metadata": {},
   "outputs": [
    {
     "name": "stdout",
     "output_type": "stream",
     "text": [
      "Prediction:  9\nPrediction:  J\n"
     ]
    },
    {
     "data": {
      "text/plain": [
       "<matplotlib.image.AxesImage at 0xffeca20>"
      ]
     },
     "execution_count": 37,
     "metadata": {},
     "output_type": "execute_result"
    },
    {
     "data": {
      "image/png": "[encoded data removed]",
      "text/plain": [
       "<matplotlib.figure.Figure at 0xff4a7b8>"
      ]
     },
     "metadata": {},
     "output_type": "display_data"
    }
   ],
   "source": [
    "letters = ['A','B','C','D','E','F','G','H','I','J']\n",
    "sample_idx = np.random.randint(testset.shape[0])  # pick a random image index\n",
    "sample_image = test_dataset[sample_idx, :, :]  # extract a 2D slice\n",
    "prediction = clfNB.predict(testset[sample_idx:sample_idx+1])\n",
    "i = prediction[0]\n",
    "print (\"Prediction: \",i)\n",
    "print(\"Prediction: \", letters[i])\n",
    "plt.figure()\n",
    "plt.imshow(sample_image)"
   ]
  },
  {
   "cell_type": "code",
   "execution_count": 34,
   "metadata": {},
   "outputs": [
    {
     "name": "stdout",
     "output_type": "stream",
     "text": [
      "DeepLearning\\data\\clfLR.pickle already present - Skipping pickling.\n"
     ]
    },
    {
     "data": {
      "text/plain": [
       "True"
      ]
     },
     "execution_count": 34,
     "metadata": {},
     "output_type": "execute_result"
    }
   ],
   "source": [
    "def maybe_pickle(data, data_file, force=False):\n",
    "    if os.path.exists(data_file) and not force:\n",
    "        # You may override by setting force=True.\n",
    "        print('%s already present - Skipping pickling.' % data_file)\n",
    "    else:\n",
    "        print('Pickling %s.' % data_file)\n",
    "        with open(data_file, 'wb') as f:\n",
    "            try:\n",
    "                pickle.dump(data, f, pickle.HIGHEST_PROTOCOL)\n",
    "            except Exception as e:\n",
    "                print('Unable to save data to', data_file, ':', e)\n",
    "    return True\n",
    "    \n",
    "\n",
    "pickle_file = os.path.join(data_root,\"clfLR.pickle\")\n",
    "maybe_pickle(clfLR, pickle_file)\n",
    "\n",
    "pickle_file = os.path.join(data_root,\"clfNB.pickle\")\n",
    "maybe_pickle(clfNB, pickle_file)\n",
    "\n"
   ]
  },
  {
   "cell_type": "code",
   "execution_count": 40,
   "metadata": {},
   "outputs": [
    {
     "name": "stdout",
     "output_type": "stream",
     "text": [
      "train size  200000\ntest size  10000  shape  (10000, 784)  labels  [9 6 2 ..., 5 1 5]\n"
     ]
    },
    {
     "name": "stdout",
     "output_type": "stream",
     "text": [
      "Naive Base accuracy is  0.8005\n"
     ]
    }
   ],
   "source": [
    "test_size = test_dataset.shape[0]\n",
    "testset = test_dataset.reshape(test_dataset.shape[0], -1)\n",
    "print(\"train size \", train_size)\n",
    "print(\"test size \", test_size, \" shape \", testset.shape, \" labels \", test_labels)\n",
    "\n",
    "accuracyNB = clfNB.score(testset, test_labels)\n",
    "print(\"Naive Base accuracy is \", accuracyNB)"
   ]
  },
  {
   "cell_type": "code",
   "execution_count": null,
   "metadata": {},
   "outputs": [],
   "source": []
  }
 ],
 "metadata": {
  "colab": {
   "version": "0.3.2",
   "views": {},
   "default_view": {},
   "name": "1_notmnist.ipynb",
   "provenance": []
  }
 },
 "nbformat": 4,
 "nbformat_minor": 0
}
